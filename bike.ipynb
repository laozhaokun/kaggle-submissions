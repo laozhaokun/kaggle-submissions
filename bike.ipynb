{
 "metadata": {
  "name": "",
  "signature": "sha256:f7d7cf9708ef19314388bafe98460ac78562229a07cf70c48b14f63e8f301d65"
 },
 "nbformat": 3,
 "nbformat_minor": 0,
 "worksheets": [
  {
   "cells": [
    {
     "cell_type": "markdown",
     "metadata": {},
     "source": [
      "## \u76ee\u6807\uff1a\u9884\u6d4b\u67d0\u4e00\u5c0f\u65f6\u7684\u81ea\u884c\u8f66\u79df\u7528\u91cf\n",
      "[kaggle\u5730\u5740](https://www.kaggle.com/c/bike-sharing-demand)"
     ]
    },
    {
     "cell_type": "code",
     "collapsed": false,
     "input": [
      "# \u67e5\u770b\u5f53\u524d\u76ee\u5f55\n",
      "% pwd"
     ],
     "language": "python",
     "metadata": {},
     "outputs": [
      {
       "metadata": {},
       "output_type": "pyout",
       "prompt_number": 21,
       "text": [
        "u'C:\\\\workspace\\\\kaggle\\\\bike'"
       ]
      }
     ],
     "prompt_number": 21
    },
    {
     "cell_type": "code",
     "collapsed": false,
     "input": [
      "# \u5217\u51fa\u5f53\u524d\u6587\u4ef6\n",
      "% ls"
     ],
     "language": "python",
     "metadata": {},
     "outputs": [
      {
       "output_type": "stream",
       "stream": "stdout",
       "text": [
        " \u9a71\u52a8\u5668 C \u4e2d\u7684\u5377\u662f OS\n",
        " \u5377\u7684\u5e8f\u5217\u53f7\u662f 6C93-0DF3\n",
        "\n",
        " C:\\workspace\\kaggle\\bike \u7684\u76ee\u5f55\n",
        "\n",
        "2015/03/28  17:14    <DIR>          .\n",
        "2015/03/28  17:14    <DIR>          ..\n",
        "2015/03/28  17:13           142,861 sampleSubmission.csv\n",
        "2015/03/28  17:13           323,856 test.csv\n",
        "2015/03/28  17:13           648,353 train.csv\n",
        "               3 \u4e2a\u6587\u4ef6      1,115,070 \u5b57\u8282\n",
        "               2 \u4e2a\u76ee\u5f55 52,299,870,208 \u53ef\u7528\u5b57\u8282\n"
       ]
      }
     ],
     "prompt_number": 22
    },
    {
     "cell_type": "code",
     "collapsed": false,
     "input": [
      "import pandas as pd"
     ],
     "language": "python",
     "metadata": {},
     "outputs": [],
     "prompt_number": 9
    },
    {
     "cell_type": "code",
     "collapsed": false,
     "input": [
      "df = pd.read_csv('train.csv')"
     ],
     "language": "python",
     "metadata": {},
     "outputs": [],
     "prompt_number": 62
    },
    {
     "cell_type": "code",
     "collapsed": false,
     "input": [
      "# \u8bfb\u53d6\u6587\u4ef6\u524d10\u884c\n",
      "df.head()"
     ],
     "language": "python",
     "metadata": {},
     "outputs": [
      {
       "html": [
        "<div style=\"max-height:1000px;max-width:1500px;overflow:auto;\">\n",
        "<table border=\"1\" class=\"dataframe\">\n",
        "  <thead>\n",
        "    <tr style=\"text-align: right;\">\n",
        "      <th></th>\n",
        "      <th>datetime</th>\n",
        "      <th>season</th>\n",
        "      <th>holiday</th>\n",
        "      <th>workingday</th>\n",
        "      <th>weather</th>\n",
        "      <th>temp</th>\n",
        "      <th>atemp</th>\n",
        "      <th>humidity</th>\n",
        "      <th>windspeed</th>\n",
        "      <th>casual</th>\n",
        "      <th>registered</th>\n",
        "      <th>count</th>\n",
        "    </tr>\n",
        "  </thead>\n",
        "  <tbody>\n",
        "    <tr>\n",
        "      <th>0</th>\n",
        "      <td> 2011-01-01 00:00:00</td>\n",
        "      <td> 1</td>\n",
        "      <td> 0</td>\n",
        "      <td> 0</td>\n",
        "      <td> 1</td>\n",
        "      <td> 9.84</td>\n",
        "      <td> 14.395</td>\n",
        "      <td> 81</td>\n",
        "      <td> 0</td>\n",
        "      <td> 3</td>\n",
        "      <td> 13</td>\n",
        "      <td> 16</td>\n",
        "    </tr>\n",
        "    <tr>\n",
        "      <th>1</th>\n",
        "      <td> 2011-01-01 01:00:00</td>\n",
        "      <td> 1</td>\n",
        "      <td> 0</td>\n",
        "      <td> 0</td>\n",
        "      <td> 1</td>\n",
        "      <td> 9.02</td>\n",
        "      <td> 13.635</td>\n",
        "      <td> 80</td>\n",
        "      <td> 0</td>\n",
        "      <td> 8</td>\n",
        "      <td> 32</td>\n",
        "      <td> 40</td>\n",
        "    </tr>\n",
        "    <tr>\n",
        "      <th>2</th>\n",
        "      <td> 2011-01-01 02:00:00</td>\n",
        "      <td> 1</td>\n",
        "      <td> 0</td>\n",
        "      <td> 0</td>\n",
        "      <td> 1</td>\n",
        "      <td> 9.02</td>\n",
        "      <td> 13.635</td>\n",
        "      <td> 80</td>\n",
        "      <td> 0</td>\n",
        "      <td> 5</td>\n",
        "      <td> 27</td>\n",
        "      <td> 32</td>\n",
        "    </tr>\n",
        "    <tr>\n",
        "      <th>3</th>\n",
        "      <td> 2011-01-01 03:00:00</td>\n",
        "      <td> 1</td>\n",
        "      <td> 0</td>\n",
        "      <td> 0</td>\n",
        "      <td> 1</td>\n",
        "      <td> 9.84</td>\n",
        "      <td> 14.395</td>\n",
        "      <td> 75</td>\n",
        "      <td> 0</td>\n",
        "      <td> 3</td>\n",
        "      <td> 10</td>\n",
        "      <td> 13</td>\n",
        "    </tr>\n",
        "    <tr>\n",
        "      <th>4</th>\n",
        "      <td> 2011-01-01 04:00:00</td>\n",
        "      <td> 1</td>\n",
        "      <td> 0</td>\n",
        "      <td> 0</td>\n",
        "      <td> 1</td>\n",
        "      <td> 9.84</td>\n",
        "      <td> 14.395</td>\n",
        "      <td> 75</td>\n",
        "      <td> 0</td>\n",
        "      <td> 0</td>\n",
        "      <td>  1</td>\n",
        "      <td>  1</td>\n",
        "    </tr>\n",
        "  </tbody>\n",
        "</table>\n",
        "</div>"
       ],
       "metadata": {},
       "output_type": "pyout",
       "prompt_number": 23,
       "text": [
        "              datetime  season  holiday  workingday  weather  temp   atemp  \\\n",
        "0  2011-01-01 00:00:00       1        0           0        1  9.84  14.395   \n",
        "1  2011-01-01 01:00:00       1        0           0        1  9.02  13.635   \n",
        "2  2011-01-01 02:00:00       1        0           0        1  9.02  13.635   \n",
        "3  2011-01-01 03:00:00       1        0           0        1  9.84  14.395   \n",
        "4  2011-01-01 04:00:00       1        0           0        1  9.84  14.395   \n",
        "\n",
        "   humidity  windspeed  casual  registered  count  \n",
        "0        81          0       3          13     16  \n",
        "1        80          0       8          32     40  \n",
        "2        80          0       5          27     32  \n",
        "3        75          0       3          10     13  \n",
        "4        75          0       0           1      1  "
       ]
      }
     ],
     "prompt_number": 23
    },
    {
     "cell_type": "code",
     "collapsed": false,
     "input": [
      "# \u6253\u5370\u7edf\u8ba1\u4fe1\u606f\n",
      "df.describe()"
     ],
     "language": "python",
     "metadata": {},
     "outputs": [
      {
       "html": [
        "<div style=\"max-height:1000px;max-width:1500px;overflow:auto;\">\n",
        "<table border=\"1\" class=\"dataframe\">\n",
        "  <thead>\n",
        "    <tr style=\"text-align: right;\">\n",
        "      <th></th>\n",
        "      <th>season</th>\n",
        "      <th>holiday</th>\n",
        "      <th>workingday</th>\n",
        "      <th>weather</th>\n",
        "      <th>temp</th>\n",
        "      <th>atemp</th>\n",
        "      <th>humidity</th>\n",
        "      <th>windspeed</th>\n",
        "      <th>casual</th>\n",
        "      <th>registered</th>\n",
        "      <th>count</th>\n",
        "    </tr>\n",
        "  </thead>\n",
        "  <tbody>\n",
        "    <tr>\n",
        "      <th>count</th>\n",
        "      <td> 10886.000000</td>\n",
        "      <td> 10886.000000</td>\n",
        "      <td> 10886.000000</td>\n",
        "      <td> 10886.000000</td>\n",
        "      <td> 10886.00000</td>\n",
        "      <td> 10886.000000</td>\n",
        "      <td> 10886.000000</td>\n",
        "      <td> 10886.000000</td>\n",
        "      <td> 10886.000000</td>\n",
        "      <td> 10886.000000</td>\n",
        "      <td> 10886.000000</td>\n",
        "    </tr>\n",
        "    <tr>\n",
        "      <th>mean</th>\n",
        "      <td>     2.506614</td>\n",
        "      <td>     0.028569</td>\n",
        "      <td>     0.680875</td>\n",
        "      <td>     1.418427</td>\n",
        "      <td>    20.23086</td>\n",
        "      <td>    23.655084</td>\n",
        "      <td>    61.886460</td>\n",
        "      <td>    12.799395</td>\n",
        "      <td>    36.021955</td>\n",
        "      <td>   155.552177</td>\n",
        "      <td>   191.574132</td>\n",
        "    </tr>\n",
        "    <tr>\n",
        "      <th>std</th>\n",
        "      <td>     1.116174</td>\n",
        "      <td>     0.166599</td>\n",
        "      <td>     0.466159</td>\n",
        "      <td>     0.633839</td>\n",
        "      <td>     7.79159</td>\n",
        "      <td>     8.474601</td>\n",
        "      <td>    19.245033</td>\n",
        "      <td>     8.164537</td>\n",
        "      <td>    49.960477</td>\n",
        "      <td>   151.039033</td>\n",
        "      <td>   181.144454</td>\n",
        "    </tr>\n",
        "    <tr>\n",
        "      <th>min</th>\n",
        "      <td>     1.000000</td>\n",
        "      <td>     0.000000</td>\n",
        "      <td>     0.000000</td>\n",
        "      <td>     1.000000</td>\n",
        "      <td>     0.82000</td>\n",
        "      <td>     0.760000</td>\n",
        "      <td>     0.000000</td>\n",
        "      <td>     0.000000</td>\n",
        "      <td>     0.000000</td>\n",
        "      <td>     0.000000</td>\n",
        "      <td>     1.000000</td>\n",
        "    </tr>\n",
        "    <tr>\n",
        "      <th>25%</th>\n",
        "      <td>     2.000000</td>\n",
        "      <td>     0.000000</td>\n",
        "      <td>     0.000000</td>\n",
        "      <td>     1.000000</td>\n",
        "      <td>    13.94000</td>\n",
        "      <td>    16.665000</td>\n",
        "      <td>    47.000000</td>\n",
        "      <td>     7.001500</td>\n",
        "      <td>     4.000000</td>\n",
        "      <td>    36.000000</td>\n",
        "      <td>    42.000000</td>\n",
        "    </tr>\n",
        "    <tr>\n",
        "      <th>50%</th>\n",
        "      <td>     3.000000</td>\n",
        "      <td>     0.000000</td>\n",
        "      <td>     1.000000</td>\n",
        "      <td>     1.000000</td>\n",
        "      <td>    20.50000</td>\n",
        "      <td>    24.240000</td>\n",
        "      <td>    62.000000</td>\n",
        "      <td>    12.998000</td>\n",
        "      <td>    17.000000</td>\n",
        "      <td>   118.000000</td>\n",
        "      <td>   145.000000</td>\n",
        "    </tr>\n",
        "    <tr>\n",
        "      <th>75%</th>\n",
        "      <td>     4.000000</td>\n",
        "      <td>     0.000000</td>\n",
        "      <td>     1.000000</td>\n",
        "      <td>     2.000000</td>\n",
        "      <td>    26.24000</td>\n",
        "      <td>    31.060000</td>\n",
        "      <td>    77.000000</td>\n",
        "      <td>    16.997900</td>\n",
        "      <td>    49.000000</td>\n",
        "      <td>   222.000000</td>\n",
        "      <td>   284.000000</td>\n",
        "    </tr>\n",
        "    <tr>\n",
        "      <th>max</th>\n",
        "      <td>     4.000000</td>\n",
        "      <td>     1.000000</td>\n",
        "      <td>     1.000000</td>\n",
        "      <td>     4.000000</td>\n",
        "      <td>    41.00000</td>\n",
        "      <td>    45.455000</td>\n",
        "      <td>   100.000000</td>\n",
        "      <td>    56.996900</td>\n",
        "      <td>   367.000000</td>\n",
        "      <td>   886.000000</td>\n",
        "      <td>   977.000000</td>\n",
        "    </tr>\n",
        "  </tbody>\n",
        "</table>\n",
        "</div>"
       ],
       "metadata": {},
       "output_type": "pyout",
       "prompt_number": 24,
       "text": [
        "             season       holiday    workingday       weather         temp  \\\n",
        "count  10886.000000  10886.000000  10886.000000  10886.000000  10886.00000   \n",
        "mean       2.506614      0.028569      0.680875      1.418427     20.23086   \n",
        "std        1.116174      0.166599      0.466159      0.633839      7.79159   \n",
        "min        1.000000      0.000000      0.000000      1.000000      0.82000   \n",
        "25%        2.000000      0.000000      0.000000      1.000000     13.94000   \n",
        "50%        3.000000      0.000000      1.000000      1.000000     20.50000   \n",
        "75%        4.000000      0.000000      1.000000      2.000000     26.24000   \n",
        "max        4.000000      1.000000      1.000000      4.000000     41.00000   \n",
        "\n",
        "              atemp      humidity     windspeed        casual    registered  \\\n",
        "count  10886.000000  10886.000000  10886.000000  10886.000000  10886.000000   \n",
        "mean      23.655084     61.886460     12.799395     36.021955    155.552177   \n",
        "std        8.474601     19.245033      8.164537     49.960477    151.039033   \n",
        "min        0.760000      0.000000      0.000000      0.000000      0.000000   \n",
        "25%       16.665000     47.000000      7.001500      4.000000     36.000000   \n",
        "50%       24.240000     62.000000     12.998000     17.000000    118.000000   \n",
        "75%       31.060000     77.000000     16.997900     49.000000    222.000000   \n",
        "max       45.455000    100.000000     56.996900    367.000000    886.000000   \n",
        "\n",
        "              count  \n",
        "count  10886.000000  \n",
        "mean     191.574132  \n",
        "std      181.144454  \n",
        "min        1.000000  \n",
        "25%       42.000000  \n",
        "50%      145.000000  \n",
        "75%      284.000000  \n",
        "max      977.000000  "
       ]
      }
     ],
     "prompt_number": 24
    },
    {
     "cell_type": "markdown",
     "metadata": {},
     "source": [
      "\u7531**count**\u884c\uff0c\u53ef\u89c1\u6570\u636e\u6ca1\u6709\u7f3a\u5931"
     ]
    },
    {
     "cell_type": "code",
     "collapsed": false,
     "input": [
      "# \u884c\u6570\u548c\u5217\u6570\n",
      "df.shape"
     ],
     "language": "python",
     "metadata": {},
     "outputs": [
      {
       "metadata": {},
       "output_type": "pyout",
       "prompt_number": 26,
       "text": [
        "(10886, 12)"
       ]
      }
     ],
     "prompt_number": 26
    },
    {
     "cell_type": "code",
     "collapsed": false,
     "input": [
      "# \u6bcf\u5217\u7684\u6570\u636e\u7c7b\u578b\n",
      "df.dtypes"
     ],
     "language": "python",
     "metadata": {},
     "outputs": [
      {
       "metadata": {},
       "output_type": "pyout",
       "prompt_number": 27,
       "text": [
        "datetime       object\n",
        "season          int64\n",
        "holiday         int64\n",
        "workingday      int64\n",
        "weather         int64\n",
        "temp          float64\n",
        "atemp         float64\n",
        "humidity        int64\n",
        "windspeed     float64\n",
        "casual          int64\n",
        "registered      int64\n",
        "count           int64\n",
        "dtype: object"
       ]
      }
     ],
     "prompt_number": 27
    },
    {
     "cell_type": "markdown",
     "metadata": {},
     "source": [
      "**datetime**\u5217\u662fobject\u7c7b\u578b\u7684\uff0c\u4e0b\u9762\u5c06\u5176\u8f6c\u6210int\u7c7b\u578b\uff0c\u5e76\u5c06\u5176\u4e2d\u7684\u5e74\u3001\u6708\u3001\u65e5\u3001\u65f6\u62bd\u53d6\u51fa\u6765\u4f5c\u4e3a\u5355\u72ec\u7684\u5217\u3002"
     ]
    },
    {
     "cell_type": "code",
     "collapsed": false,
     "input": [
      "pd?"
     ],
     "language": "python",
     "metadata": {},
     "outputs": [],
     "prompt_number": 30
    },
    {
     "cell_type": "code",
     "collapsed": false,
     "input": [
      "pd.DatetimeIndex?"
     ],
     "language": "python",
     "metadata": {},
     "outputs": [],
     "prompt_number": 31
    },
    {
     "cell_type": "code",
     "collapsed": false,
     "input": [
      "df['year'] = pd.DatetimeIndex(df.datetime).year\n",
      "df['month'] = pd.DatetimeIndex(df.datetime).month\n",
      "df['day'] = pd.DatetimeIndex(df.datetime).dayofweek\n",
      "df['hour'] = pd.DatetimeIndex(df.datetime).hour"
     ],
     "language": "python",
     "metadata": {},
     "outputs": [],
     "prompt_number": 63
    },
    {
     "cell_type": "code",
     "collapsed": false,
     "input": [
      "df.head(2)"
     ],
     "language": "python",
     "metadata": {},
     "outputs": [
      {
       "html": [
        "<div style=\"max-height:1000px;max-width:1500px;overflow:auto;\">\n",
        "<table border=\"1\" class=\"dataframe\">\n",
        "  <thead>\n",
        "    <tr style=\"text-align: right;\">\n",
        "      <th></th>\n",
        "      <th>datetime</th>\n",
        "      <th>season</th>\n",
        "      <th>holiday</th>\n",
        "      <th>workingday</th>\n",
        "      <th>weather</th>\n",
        "      <th>temp</th>\n",
        "      <th>atemp</th>\n",
        "      <th>humidity</th>\n",
        "      <th>windspeed</th>\n",
        "      <th>casual</th>\n",
        "      <th>registered</th>\n",
        "      <th>count</th>\n",
        "      <th>year</th>\n",
        "      <th>month</th>\n",
        "      <th>day</th>\n",
        "      <th>hour</th>\n",
        "    </tr>\n",
        "  </thead>\n",
        "  <tbody>\n",
        "    <tr>\n",
        "      <th>0</th>\n",
        "      <td> 2011-01-01 00:00:00</td>\n",
        "      <td> 1</td>\n",
        "      <td> 0</td>\n",
        "      <td> 0</td>\n",
        "      <td> 1</td>\n",
        "      <td> 9.84</td>\n",
        "      <td> 14.395</td>\n",
        "      <td> 81</td>\n",
        "      <td> 0</td>\n",
        "      <td> 3</td>\n",
        "      <td> 13</td>\n",
        "      <td> 16</td>\n",
        "      <td> 2011</td>\n",
        "      <td> 1</td>\n",
        "      <td> 5</td>\n",
        "      <td> 0</td>\n",
        "    </tr>\n",
        "    <tr>\n",
        "      <th>1</th>\n",
        "      <td> 2011-01-01 01:00:00</td>\n",
        "      <td> 1</td>\n",
        "      <td> 0</td>\n",
        "      <td> 0</td>\n",
        "      <td> 1</td>\n",
        "      <td> 9.02</td>\n",
        "      <td> 13.635</td>\n",
        "      <td> 80</td>\n",
        "      <td> 0</td>\n",
        "      <td> 8</td>\n",
        "      <td> 32</td>\n",
        "      <td> 40</td>\n",
        "      <td> 2011</td>\n",
        "      <td> 1</td>\n",
        "      <td> 5</td>\n",
        "      <td> 1</td>\n",
        "    </tr>\n",
        "  </tbody>\n",
        "</table>\n",
        "</div>"
       ],
       "metadata": {},
       "output_type": "pyout",
       "prompt_number": 65,
       "text": [
        "              datetime  season  holiday  workingday  weather  temp   atemp  \\\n",
        "0  2011-01-01 00:00:00       1        0           0        1  9.84  14.395   \n",
        "1  2011-01-01 01:00:00       1        0           0        1  9.02  13.635   \n",
        "\n",
        "   humidity  windspeed  casual  registered  count  year  month  day  hour  \n",
        "0        81          0       3          13     16  2011      1    5     0  \n",
        "1        80          0       8          32     40  2011      1    5     1  "
       ]
      }
     ],
     "prompt_number": 65
    },
    {
     "cell_type": "markdown",
     "metadata": {},
     "source": [
      "\u73b0\u5728**datetime**\u53ef\u4ee5\u5220\u6389\u4e86,**casual** \u548c **registered**\u5728\u6d4b\u8bd5\u6570\u636e\u96c6\u4e2d\u6ca1\u6709\uff0c\u6240\u4ee5\u4e5f\u53ef\u4ee5\u5220\u6389\u4e86\u3002"
     ]
    },
    {
     "cell_type": "code",
     "collapsed": false,
     "input": [
      "df = df.drop(['datetime','casual','registered'],axis = 1)"
     ],
     "language": "python",
     "metadata": {},
     "outputs": [],
     "prompt_number": 66
    },
    {
     "cell_type": "code",
     "collapsed": false,
     "input": [
      "df.head(2)"
     ],
     "language": "python",
     "metadata": {},
     "outputs": [
      {
       "html": [
        "<div style=\"max-height:1000px;max-width:1500px;overflow:auto;\">\n",
        "<table border=\"1\" class=\"dataframe\">\n",
        "  <thead>\n",
        "    <tr style=\"text-align: right;\">\n",
        "      <th></th>\n",
        "      <th>season</th>\n",
        "      <th>holiday</th>\n",
        "      <th>workingday</th>\n",
        "      <th>weather</th>\n",
        "      <th>temp</th>\n",
        "      <th>atemp</th>\n",
        "      <th>humidity</th>\n",
        "      <th>windspeed</th>\n",
        "      <th>count</th>\n",
        "      <th>year</th>\n",
        "      <th>month</th>\n",
        "      <th>day</th>\n",
        "      <th>hour</th>\n",
        "    </tr>\n",
        "  </thead>\n",
        "  <tbody>\n",
        "    <tr>\n",
        "      <th>0</th>\n",
        "      <td> 1</td>\n",
        "      <td> 0</td>\n",
        "      <td> 0</td>\n",
        "      <td> 1</td>\n",
        "      <td> 9.84</td>\n",
        "      <td> 14.395</td>\n",
        "      <td> 81</td>\n",
        "      <td> 0</td>\n",
        "      <td> 16</td>\n",
        "      <td> 2011</td>\n",
        "      <td> 1</td>\n",
        "      <td> 5</td>\n",
        "      <td> 0</td>\n",
        "    </tr>\n",
        "    <tr>\n",
        "      <th>1</th>\n",
        "      <td> 1</td>\n",
        "      <td> 0</td>\n",
        "      <td> 0</td>\n",
        "      <td> 1</td>\n",
        "      <td> 9.02</td>\n",
        "      <td> 13.635</td>\n",
        "      <td> 80</td>\n",
        "      <td> 0</td>\n",
        "      <td> 40</td>\n",
        "      <td> 2011</td>\n",
        "      <td> 1</td>\n",
        "      <td> 5</td>\n",
        "      <td> 1</td>\n",
        "    </tr>\n",
        "  </tbody>\n",
        "</table>\n",
        "</div>"
       ],
       "metadata": {},
       "output_type": "pyout",
       "prompt_number": 69,
       "text": [
        "   season  holiday  workingday  weather  temp   atemp  humidity  windspeed  \\\n",
        "0       1        0           0        1  9.84  14.395        81          0   \n",
        "1       1        0           0        1  9.02  13.635        80          0   \n",
        "\n",
        "   count  year  month  day  hour  \n",
        "0     16  2011      1    5     0  \n",
        "1     40  2011      1    5     1  "
       ]
      }
     ],
     "prompt_number": 69
    },
    {
     "cell_type": "code",
     "collapsed": false,
     "input": [
      "df.shape"
     ],
     "language": "python",
     "metadata": {},
     "outputs": [
      {
       "metadata": {},
       "output_type": "pyout",
       "prompt_number": 67,
       "text": [
        "(10886, 13)"
       ]
      }
     ],
     "prompt_number": 67
    },
    {
     "cell_type": "markdown",
     "metadata": {},
     "source": [
      "\u5c06\u6570\u636e\u5206\u6210target\u90e8\u5206\u548c\u5176\u4ed6\u90e8\u5206\u3002"
     ]
    },
    {
     "cell_type": "code",
     "collapsed": false,
     "input": [
      "df_target = df['count'].values\n",
      "df_data = df.drop(['count'],axis = 1).values"
     ],
     "language": "python",
     "metadata": {},
     "outputs": [],
     "prompt_number": 68
    },
    {
     "cell_type": "code",
     "collapsed": false,
     "input": [
      "df_target.shape"
     ],
     "language": "python",
     "metadata": {},
     "outputs": [
      {
       "metadata": {},
       "output_type": "pyout",
       "prompt_number": 70,
       "text": [
        "(10886,)"
       ]
      }
     ],
     "prompt_number": 70
    },
    {
     "cell_type": "code",
     "collapsed": false,
     "input": [
      "df_data.shape"
     ],
     "language": "python",
     "metadata": {},
     "outputs": [
      {
       "metadata": {},
       "output_type": "pyout",
       "prompt_number": 71,
       "text": [
        "(10886, 12)"
       ]
      }
     ],
     "prompt_number": 71
    },
    {
     "cell_type": "code",
     "collapsed": false,
     "input": [
      "from sklearn import cross_validation\n",
      "from sklearn.ensemble import RandomForestRegressor"
     ],
     "language": "python",
     "metadata": {},
     "outputs": [],
     "prompt_number": 41
    },
    {
     "cell_type": "code",
     "collapsed": false,
     "input": [
      "rf = RandomForestRegressor(n_estimators=100).fit(df_data,df_target)\n",
      "print(\"train score: {0:.3f}, test score: {1:.3f}\\n\".format(rf.score(df_data[train], df_target[train]), rf.score(df_data[test], df_target[test])))"
     ],
     "language": "python",
     "metadata": {},
     "outputs": [
      {
       "output_type": "stream",
       "stream": "stdout",
       "text": [
        "train score: 0.993, test score: 0.993\n",
        "\n"
       ]
      }
     ],
     "prompt_number": 72
    },
    {
     "cell_type": "code",
     "collapsed": false,
     "input": [
      "df_test = pd.read_csv('test.csv')"
     ],
     "language": "python",
     "metadata": {},
     "outputs": [],
     "prompt_number": 56
    },
    {
     "cell_type": "code",
     "collapsed": false,
     "input": [
      "df_test.shape"
     ],
     "language": "python",
     "metadata": {},
     "outputs": [
      {
       "metadata": {},
       "output_type": "pyout",
       "prompt_number": 73,
       "text": [
        "(6493, 9)"
       ]
      }
     ],
     "prompt_number": 73
    },
    {
     "cell_type": "code",
     "collapsed": false,
     "input": [
      "df_test.dtypes"
     ],
     "language": "python",
     "metadata": {},
     "outputs": [
      {
       "metadata": {},
       "output_type": "pyout",
       "prompt_number": 60,
       "text": [
        "datetime       object\n",
        "season          int64\n",
        "holiday         int64\n",
        "workingday      int64\n",
        "weather         int64\n",
        "temp          float64\n",
        "atemp         float64\n",
        "humidity        int64\n",
        "windspeed     float64\n",
        "dtype: object"
       ]
      }
     ],
     "prompt_number": 60
    },
    {
     "cell_type": "markdown",
     "metadata": {},
     "source": [
      "\u5bf9\u6d4b\u8bd5\u6570\u636e\u96c6\u505a\u540c\u6837\u7684\u5904\u7406\u3002"
     ]
    },
    {
     "cell_type": "code",
     "collapsed": false,
     "input": [
      "df_test['year'] = pd.DatetimeIndex(df_test.datetime).year\n",
      "df_test['month'] = pd.DatetimeIndex(df_test.datetime).month\n",
      "df_test['day'] = pd.DatetimeIndex(df_test.datetime).dayofweek\n",
      "df_test['hour'] = pd.DatetimeIndex(df_test.datetime).hour"
     ],
     "language": "python",
     "metadata": {},
     "outputs": [],
     "prompt_number": 74
    },
    {
     "cell_type": "code",
     "collapsed": false,
     "input": [
      "df_test.shape"
     ],
     "language": "python",
     "metadata": {},
     "outputs": [
      {
       "metadata": {},
       "output_type": "pyout",
       "prompt_number": 75,
       "text": [
        "(6493, 13)"
       ]
      }
     ],
     "prompt_number": 75
    },
    {
     "cell_type": "code",
     "collapsed": false,
     "input": [
      "df_test_datetime = df_test['datetime']\n",
      "df_test = df_test.drop(['datetime'],axis=1)"
     ],
     "language": "python",
     "metadata": {},
     "outputs": [],
     "prompt_number": 77
    },
    {
     "cell_type": "code",
     "collapsed": false,
     "input": [
      "predicts = rf.predict(df_test).astype(int)"
     ],
     "language": "python",
     "metadata": {},
     "outputs": [],
     "prompt_number": 78
    },
    {
     "cell_type": "code",
     "collapsed": false,
     "input": [
      "import csv\n",
      "predictions_file = open(\"mysubmission.csv\", \"wb\")\n",
      "open_file_object = csv.writer(predictions_file)\n",
      "open_file_object.writerow([\"datetime\",\"count\"])\n",
      "open_file_object.writerows(zip(df_test_datetime, predicts))\n",
      "predictions_file.close()"
     ],
     "language": "python",
     "metadata": {},
     "outputs": [],
     "prompt_number": 83
    },
    {
     "cell_type": "code",
     "collapsed": false,
     "input": [
      "% ls"
     ],
     "language": "python",
     "metadata": {},
     "outputs": [
      {
       "output_type": "stream",
       "stream": "stdout",
       "text": [
        " \u9a71\u52a8\u5668 C \u4e2d\u7684\u5377\u662f OS\n",
        " \u5377\u7684\u5e8f\u5217\u53f7\u662f 6C93-0DF3\n",
        "\n",
        " C:\\workspace\\kaggle\\bike \u7684\u76ee\u5f55\n",
        "\n",
        "2015/03/29  14:17    <DIR>          .\n",
        "2015/03/29  14:17    <DIR>          ..\n",
        "2015/03/29  14:18           159,288 mysubmission.csv\n",
        "2015/03/28  17:13           142,861 sampleSubmission.csv\n",
        "2015/03/28  17:13           323,856 test.csv\n",
        "2015/03/28  17:13           648,353 train.csv\n",
        "               4 \u4e2a\u6587\u4ef6      1,274,358 \u5b57\u8282\n",
        "               2 \u4e2a\u76ee\u5f55 52,298,076,160 \u53ef\u7528\u5b57\u8282\n"
       ]
      }
     ],
     "prompt_number": 84
    },
    {
     "cell_type": "markdown",
     "metadata": {},
     "source": [
      "\u63d0\u4ea4\u5230kaggle.com\u4e0a\u9762\uff0c\u5f97\u5206\uff1a0.46980\uff0c\u6392\u540d:760/2492"
     ]
    },
    {
     "cell_type": "code",
     "collapsed": false,
     "input": [
      "from sklearn.ensemble import GradientBoostingRegressor"
     ],
     "language": "python",
     "metadata": {},
     "outputs": [],
     "prompt_number": 85
    },
    {
     "cell_type": "code",
     "collapsed": false,
     "input": [
      "gbr = GradientBoostingRegressor(n_estimators=500, max_depth=5)\n",
      "gbr.fit(df_data, df_target)\n",
      "predictions = abs(gbr.predict(df_test).astype(int))\n",
      " \n",
      "df_result=pd.DataFrame({'datetime':df_test_datetime, 'count':predictions})\n",
      "df_result.to_csv('mysubmission_gbr.csv', index = False, columns=['datetime','count'])\n"
     ],
     "language": "python",
     "metadata": {},
     "outputs": [],
     "prompt_number": 102
    },
    {
     "cell_type": "code",
     "collapsed": false,
     "input": [
      "% ls"
     ],
     "language": "python",
     "metadata": {},
     "outputs": [
      {
       "output_type": "stream",
       "stream": "stdout",
       "text": [
        " \u9a71\u52a8\u5668 C \u4e2d\u7684\u5377\u662f OS\n",
        " \u5377\u7684\u5e8f\u5217\u53f7\u662f 6C93-0DF3\n",
        "\n",
        " C:\\workspace\\kaggle\\bike \u7684\u76ee\u5f55\n",
        "\n",
        "2015/03/29  16:36    <DIR>          .\n",
        "2015/03/29  16:36    <DIR>          ..\n",
        "2015/03/29  14:18           159,288 mysubmission.csv\n",
        "2015/03/29  16:48           159,235 mysubmission_gbr.csv\n",
        "2015/03/28  17:13           142,861 sampleSubmission.csv\n",
        "2015/03/28  17:13           323,856 test.csv\n",
        "2015/03/28  17:13           648,353 train.csv\n",
        "               5 \u4e2a\u6587\u4ef6      1,433,593 \u5b57\u8282\n",
        "               2 \u4e2a\u76ee\u5f55 52,022,185,984 \u53ef\u7528\u5b57\u8282\n"
       ]
      }
     ],
     "prompt_number": 103
    },
    {
     "cell_type": "markdown",
     "metadata": {},
     "source": [
      "\u5f97\u5206\uff1a 0.58556 \u8fd8\u9700\u8981\u4f18\u5316"
     ]
    }
   ],
   "metadata": {}
  }
 ]
}